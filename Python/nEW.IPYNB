{
 "cells": [
  {
   "cell_type": "code",
   "execution_count": 4,
   "id": "a8bb907e",
   "metadata": {},
   "outputs": [
    {
     "name": "stdout",
     "output_type": "stream",
     "text": [
      "Requirement already satisfied: docx in d:\\dc_dds_02\\yashi\\lib\\site-packages (0.2.4)\n",
      "Requirement already satisfied: lxml in d:\\dc_dds_02\\yashi\\lib\\site-packages (from docx) (5.3.2)\n",
      "Requirement already satisfied: Pillow>=2.0 in d:\\dc_dds_02\\yashi\\lib\\site-packages (from docx) (11.1.0)\n",
      "Note: you may need to restart the kernel to use updated packages.\n"
     ]
    }
   ],
   "source": [
    "pip install docx"
   ]
  },
  {
   "cell_type": "code",
   "execution_count": 1,
   "id": "b9f0c5be",
   "metadata": {},
   "outputs": [
    {
     "ename": "ModuleNotFoundError",
     "evalue": "No module named 'exceptions'",
     "output_type": "error",
     "traceback": [
      "\u001b[31m---------------------------------------------------------------------------\u001b[39m",
      "\u001b[31mModuleNotFoundError\u001b[39m                       Traceback (most recent call last)",
      "\u001b[36mCell\u001b[39m\u001b[36m \u001b[39m\u001b[32mIn[1]\u001b[39m\u001b[32m, line 1\u001b[39m\n\u001b[32m----> \u001b[39m\u001b[32m1\u001b[39m \u001b[38;5;28;01mimport\u001b[39;00m\u001b[38;5;250m \u001b[39m\u001b[34;01mdocx\u001b[39;00m\n",
      "\u001b[36mFile \u001b[39m\u001b[32md:\\DC_DDS_02\\Yashi\\Lib\\site-packages\\docx.py:30\u001b[39m\n\u001b[32m     27\u001b[39m \u001b[38;5;28;01mexcept\u001b[39;00m \u001b[38;5;167;01mImportError\u001b[39;00m:\n\u001b[32m     28\u001b[39m     TAGS = {}\n\u001b[32m---> \u001b[39m\u001b[32m30\u001b[39m \u001b[38;5;28;01mfrom\u001b[39;00m\u001b[38;5;250m \u001b[39m\u001b[34;01mexceptions\u001b[39;00m\u001b[38;5;250m \u001b[39m\u001b[38;5;28;01mimport\u001b[39;00m \u001b[38;5;167;01mPendingDeprecationWarning\u001b[39;00m\n\u001b[32m     31\u001b[39m \u001b[38;5;28;01mfrom\u001b[39;00m\u001b[38;5;250m \u001b[39m\u001b[34;01mwarnings\u001b[39;00m\u001b[38;5;250m \u001b[39m\u001b[38;5;28;01mimport\u001b[39;00m warn\n\u001b[32m     33\u001b[39m \u001b[38;5;28;01mimport\u001b[39;00m\u001b[38;5;250m \u001b[39m\u001b[34;01mlogging\u001b[39;00m\n",
      "\u001b[31mModuleNotFoundError\u001b[39m: No module named 'exceptions'"
     ]
    }
   ],
   "source": [
    "import docx"
   ]
  },
  {
   "cell_type": "code",
   "execution_count": 5,
   "id": "0b01605e",
   "metadata": {},
   "outputs": [
    {
     "ename": "ModuleNotFoundError",
     "evalue": "No module named 'exceptions'",
     "output_type": "error",
     "traceback": [
      "\u001b[31m---------------------------------------------------------------------------\u001b[39m",
      "\u001b[31mModuleNotFoundError\u001b[39m                       Traceback (most recent call last)",
      "\u001b[36mCell\u001b[39m\u001b[36m \u001b[39m\u001b[32mIn[5]\u001b[39m\u001b[32m, line 1\u001b[39m\n\u001b[32m----> \u001b[39m\u001b[32m1\u001b[39m \u001b[38;5;28;01mimport\u001b[39;00m\u001b[38;5;250m \u001b[39m\u001b[34;01mdocx\u001b[39;00m\n\u001b[32m      2\u001b[39m \u001b[38;5;28;01mfrom\u001b[39;00m\u001b[38;5;250m \u001b[39m\u001b[34;01mdocx\u001b[39;00m\u001b[34;01m.\u001b[39;00m\u001b[34;01mdocument\u001b[39;00m\u001b[38;5;250m \u001b[39m\u001b[38;5;28;01mimport\u001b[39;00m Document\n\u001b[32m      4\u001b[39m \u001b[38;5;66;03m# Create a new Word document\u001b[39;00m\n",
      "\u001b[36mFile \u001b[39m\u001b[32md:\\DC_DDS_02\\Yashi\\Lib\\site-packages\\docx.py:30\u001b[39m\n\u001b[32m     27\u001b[39m \u001b[38;5;28;01mexcept\u001b[39;00m \u001b[38;5;167;01mImportError\u001b[39;00m:\n\u001b[32m     28\u001b[39m     TAGS = {}\n\u001b[32m---> \u001b[39m\u001b[32m30\u001b[39m \u001b[38;5;28;01mfrom\u001b[39;00m\u001b[38;5;250m \u001b[39m\u001b[34;01mexceptions\u001b[39;00m\u001b[38;5;250m \u001b[39m\u001b[38;5;28;01mimport\u001b[39;00m \u001b[38;5;167;01mPendingDeprecationWarning\u001b[39;00m\n\u001b[32m     31\u001b[39m \u001b[38;5;28;01mfrom\u001b[39;00m\u001b[38;5;250m \u001b[39m\u001b[34;01mwarnings\u001b[39;00m\u001b[38;5;250m \u001b[39m\u001b[38;5;28;01mimport\u001b[39;00m warn\n\u001b[32m     33\u001b[39m \u001b[38;5;28;01mimport\u001b[39;00m\u001b[38;5;250m \u001b[39m\u001b[34;01mlogging\u001b[39;00m\n",
      "\u001b[31mModuleNotFoundError\u001b[39m: No module named 'exceptions'"
     ]
    }
   ],
   "source": [
    "import docx\n",
    "from docx.document import Document\n",
    "\n",
    "# Create a new Word document\n",
    "doc: Document = docx.Document()\n",
    "\n",
    "# Add the resume content\n",
    "doc.add_paragraph(\"Rohan Mangla\", style='Title')\n",
    "\n",
    "doc.add_paragraph(\"Sohna, Haryana 122103 | +91 8307412395 | manglarohan77@gmail.com\")\n",
    "\n",
    "doc.add_paragraph(\"Professional Summary\", style='Heading 1')\n",
    "doc.add_paragraph(\"Highly motivated and certified Digital Marketing professional with hands-on experience in social media strategy, paid advertising, and content creation. Proven ability to execute digital campaigns, increase engagement, and optimize ROI. Skilled in using Google Ads, Meta Ads, Canva, and market research tools. Strong communicator with a passion for brand development and data-driven marketing.\")\n",
    "\n",
    "doc.add_paragraph(\"Skills\", style='Heading 1')\n",
    "doc.add_paragraph(\"• Social Media Marketing (Instagram, Facebook, LinkedIn)\\n• Google Ads & Meta Ads Campaigns\\n• Email Marketing & Lead Generation\\n• Basic SEO/SEM Principles\\n• Canva, Adobe Photoshop (Basic)\\n• Google Analytics (Familiar)\\n• Microsoft Excel, PowerPoint\\n• Market Research & Performance Analysis\\n• Effective Communication\\n• Decision Making & Leadership\\n• Adaptability & Teamwork\\n• Attention to Detail\")\n",
    "\n",
    "doc.add_paragraph(\"Certifications\", style='Heading 1')\n",
    "doc.add_paragraph(\"• Digital Marketing Certification - Google Digital Garage\\n• Advanced Digital Marketing - Skill Circle\\n• Introduction to Stock Market - Self-Learning & Online Modules\")\n",
    "\n",
    "doc.add_paragraph(\"Internship\", style='Heading 1')\n",
    "doc.add_paragraph(\"• Digital Marketing Intern - Ahuja Media\\n  Dates: 15 Sep 2024 - 20 Oct 2024\")\n",
    "\n",
    "doc.add_paragraph(\"Education\", style='Heading 1')\n",
    "doc.add_paragraph(\"• Bachelor of Commerce (B.Com)\\n  Nirankari Baba Gurubachan Singh Memorial College, Sohna\\n  2020-2024 - 68.6%\\n• Senior Secondary (12th Grade) - Commerce Stream\\n  Tagore Public School, Palwal (Haryana)\\n  78.6%\\n• Secondary (10th Grade)\\n  Maria Manzil School, Nuh\\n  47%\")\n",
    "\n",
    "doc.add_paragraph(\"Projects & Practical Experience\", style='Heading 1')\n",
    "doc.add_paragraph(\"• Designed social media graphics and mock ad campaigns for academic projects.\\n• Developed basic paid campaign structures using Google Ads simulation.\\n• Conducted research and analysis of trends in stock markets as part of personal learning.\")\n",
    "\n",
    "doc.add_paragraph(\"Career Interests\", style='Heading 1')\n",
    "doc.add_paragraph(\"Digital Marketing | Branding & Communication | Paid Advertising | Stock Market Analysis | Creative Content Development\")\n",
    "\n",
    "# Save the document\n",
    "doc.save(\"Rohan_Mangla_Resume.docx\")"
   ]
  },
  {
   "cell_type": "code",
   "execution_count": 2,
   "id": "00f125fe",
   "metadata": {},
   "outputs": [
    {
     "ename": "ModuleNotFoundError",
     "evalue": "No module named 'exceptions'",
     "output_type": "error",
     "traceback": [
      "\u001b[31m---------------------------------------------------------------------------\u001b[39m",
      "\u001b[31mModuleNotFoundError\u001b[39m                       Traceback (most recent call last)",
      "\u001b[36mCell\u001b[39m\u001b[36m \u001b[39m\u001b[32mIn[2]\u001b[39m\u001b[32m, line 1\u001b[39m\n\u001b[32m----> \u001b[39m\u001b[32m1\u001b[39m \u001b[38;5;28;01mfrom\u001b[39;00m\u001b[38;5;250m \u001b[39m\u001b[34;01mdocx\u001b[39;00m\u001b[38;5;250m \u001b[39m\u001b[38;5;28;01mimport\u001b[39;00m Document\n\u001b[32m      2\u001b[39m \u001b[38;5;28;01mfrom\u001b[39;00m\u001b[38;5;250m \u001b[39m\u001b[34;01mdocx\u001b[39;00m\u001b[34;01m.\u001b[39;00m\u001b[34;01mshared\u001b[39;00m\u001b[38;5;250m \u001b[39m\u001b[38;5;28;01mimport\u001b[39;00m Pt\n\u001b[32m      3\u001b[39m \u001b[38;5;28;01mfrom\u001b[39;00m\u001b[38;5;250m \u001b[39m\u001b[34;01mdocx\u001b[39;00m\u001b[34;01m.\u001b[39;00m\u001b[34;01menum\u001b[39;00m\u001b[34;01m.\u001b[39;00m\u001b[34;01mtext\u001b[39;00m\u001b[38;5;250m \u001b[39m\u001b[38;5;28;01mimport\u001b[39;00m WD_PARAGRAPH_ALIGNMENT\n",
      "\u001b[36mFile \u001b[39m\u001b[32md:\\DC_DDS_02\\Yashi\\Lib\\site-packages\\docx.py:30\u001b[39m\n\u001b[32m     27\u001b[39m \u001b[38;5;28;01mexcept\u001b[39;00m \u001b[38;5;167;01mImportError\u001b[39;00m:\n\u001b[32m     28\u001b[39m     TAGS = {}\n\u001b[32m---> \u001b[39m\u001b[32m30\u001b[39m \u001b[38;5;28;01mfrom\u001b[39;00m\u001b[38;5;250m \u001b[39m\u001b[34;01mexceptions\u001b[39;00m\u001b[38;5;250m \u001b[39m\u001b[38;5;28;01mimport\u001b[39;00m \u001b[38;5;167;01mPendingDeprecationWarning\u001b[39;00m\n\u001b[32m     31\u001b[39m \u001b[38;5;28;01mfrom\u001b[39;00m\u001b[38;5;250m \u001b[39m\u001b[34;01mwarnings\u001b[39;00m\u001b[38;5;250m \u001b[39m\u001b[38;5;28;01mimport\u001b[39;00m warn\n\u001b[32m     33\u001b[39m \u001b[38;5;28;01mimport\u001b[39;00m\u001b[38;5;250m \u001b[39m\u001b[34;01mlogging\u001b[39;00m\n",
      "\u001b[31mModuleNotFoundError\u001b[39m: No module named 'exceptions'"
     ]
    }
   ],
   "source": [
    "from docx import Document\n",
    "from docx.shared import Pt\n",
    "from docx.enum.text import WD_PARAGRAPH_ALIGNMENT\n",
    "import os\n",
    "\n",
    "# Load the existing resume\n",
    "resume_path = \"/mnt/data/Rohan_Mangla_ATS_Optimized_Resume.pdf\"\n",
    "output_path = \"/mnt/data/Rohan_Mangla_Updated_Resume.docx\"\n",
    "\n",
    "# Since we cannot directly edit PDFs, we'll recreate the resume in Word format for the update\n",
    "# Extracted content manually (based on the provided PDF content) and recreate it in Word\n",
    "\n",
    "doc = Document()\n",
    "\n",
    "# Define styles\n",
    "style = doc.styles['Normal']\n",
    "font = style.font\n",
    "font.name = 'Calibri'\n",
    "font.size = Pt(11)\n",
    "\n",
    "# Add contact header\n",
    "doc.add_heading(\"ROHAN MANGLA\", 0)\n",
    "doc.add_paragraph(\"Sohna, Haryana – 122103 | +91 8307412395 | manglarohan77@gmail.com\")\n",
    "\n",
    "# Section: Professional Summary\n",
    "doc.add_heading(\"Professional Summary\", level=1)\n",
    "doc.add_paragraph(\n",
    "    \"Highly motivated and certified Digital Marketing professional with hands-on experience in social \"\n",
    "    \"media strategy, paid advertising, and content creation. Proven ability to execute digital \"\n",
    "    \"campaigns, increase engagement, and optimize ROI. Skilled in using Google Ads, Meta Ads, \"\n",
    "    \"Canva, and market research tools. Strong communicator with a passion for brand development \"\n",
    "    \"and data-driven marketing.\"\n",
    ")\n",
    "\n",
    "# Section: Skills\n",
    "doc.add_heading(\"Skills\", level=1)\n",
    "doc.add_paragraph(\n",
    "    \"- Social Media Marketing (Instagram, Facebook, LinkedIn)\\n\"\n",
    "    \"- Google Ads & Meta Ads Campaigns\\n\"\n",
    "    \"- Email Marketing & Lead Generation\\n\"\n",
    "    \"- Basic SEO/SEM Principles\\n\"\n",
    "    \"- Canva, Adobe Photoshop (Basic)\\n\"\n",
    "    \"- Google Analytics (Familiar)\\n\"\n",
    "    \"- Microsoft Excel, PowerPoint\\n\"\n",
    "    \"- Market Research & Performance Analysis\\n\"\n",
    "    \"- Effective Communication\\n\"\n",
    "    \"- Decision Making & Leadership\\n\"\n",
    "    \"- Adaptability & Teamwork\\n\"\n",
    "    \"- Attention to Detail\"\n",
    ")\n",
    "\n",
    "# Section: Certifications\n",
    "doc.add_heading(\"Certifications\", level=1)\n",
    "doc.add_paragraph(\n",
    "    \"- Digital Marketing Certification – Google Digital Garage\\n\"\n",
    "    \"- Advanced Digital Marketing – Skill Circle\\n\"\n",
    "    \"- Introduction to Stock Market – Self-Learning & Online Modules\"\n",
    ")\n",
    "\n",
    "# Section: Education\n",
    "doc.add_heading(\"Education\", level=1)\n",
    "doc.add_paragraph(\n",
    "    \"Bachelor of Commerce (B.Com)\\n\"\n",
    "    \"Nirankari Baba Gurubachan Singh Memorial College, Sohna\\n\"\n",
    "    \"2020 – 2024 | 68.6%\"\n",
    ")\n",
    "doc.add_paragraph(\n",
    "    \"Senior Secondary (12th Grade) – Commerce Stream\\n\"\n",
    "    \"Tagore Public School, Palwal (Haryana)\\n\"\n",
    "    \"78.6%\"\n",
    ")\n",
    "doc.add_paragraph(\n",
    "    \"Secondary (10th Grade)\\n\"\n",
    "    \"Maria Manzil School, Nuh\\n\"\n",
    "    \"47%\"\n",
    ")\n",
    "\n",
    "# Section: Projects & Practical Experience\n",
    "doc.add_heading(\"Projects & Practical Experience\", level=1)\n",
    "doc.add_paragraph(\n",
    "    \"- Designed social media graphics and mock ad campaigns for academic projects.\\n\"\n",
    "    \"- Developed basic paid campaign structures using Google Ads simulation.\\n\"\n",
    "    \"- Conducted research and analysis of trends in stock markets as part of personal learning.\\n\"\n",
    "    \"- Completed a 5-week internship at Ahuja Media (Sep–Oct 2024), where I contributed to digital \"\n",
    "    \"marketing tasks including social media content creation, campaign planning, and market research.\"\n",
    ")\n",
    "\n",
    "# Section: Career Interests\n",
    "doc.add_heading(\"Career Interests\", level=1)\n",
    "doc.add_paragraph(\n",
    "    \"Digital Marketing | Branding & Communication | Paid Advertising | Stock Market Analysis | \"\n",
    "    \"Creative Content Development\"\n",
    ")\n",
    "\n",
    "# Save the updated resume\n",
    "doc.save(output_path)\n",
    "\n",
    "output_path\n"
   ]
  }
 ],
 "metadata": {
  "kernelspec": {
   "display_name": "Python 3",
   "language": "python",
   "name": "python3"
  },
  "language_info": {
   "codemirror_mode": {
    "name": "ipython",
    "version": 3
   },
   "file_extension": ".py",
   "mimetype": "text/x-python",
   "name": "python",
   "nbconvert_exporter": "python",
   "pygments_lexer": "ipython3",
   "version": "3.12.0"
  }
 },
 "nbformat": 4,
 "nbformat_minor": 5
}
